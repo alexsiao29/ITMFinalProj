{
 "cells": [
  {
   "cell_type": "code",
   "execution_count": 90,
   "id": "d7479681",
   "metadata": {},
   "outputs": [],
   "source": [
    "Ebais={'table1':[],'table2':[],'table3':[]}\n",
    "IRH={'table1':[],'table2':[],'table3':[]}\n",
    "Gonz={'table1':[],'table2':[],'table3':[]}"
   ]
  },
  {
   "cell_type": "code",
   "execution_count": 93,
   "id": "b91b9194",
   "metadata": {},
   "outputs": [
    {
     "name": "stdout",
     "output_type": "stream",
     "text": [
      "table1\n",
      "table3\n",
      "{'table1': [], 'table2': [], 'table3': []}\n"
     ]
    }
   ],
   "source": [
    "def look(table,canteen,canteen2):\n",
    "    #TABLE: TABLE user is occupying\n",
    "    #CANTEEN: The CANTEEN where user occupied TABLE\n",
    "    #CANTEEN2: User is asking for available tables in CANTEEN2\n",
    "    \n",
    "    #When user marks their spot in a table\n",
    "    canteen[table].append('Unavailable')\n",
    "    \n",
    "    #When user asks for available tables\n",
    "    make_keys=list(canteen2.keys())\n",
    "    for num in make_keys:\n",
    "        if canteen2[num]==[]:\n",
    "            print(num) \n",
    "    \n",
    "    #If User inputs that they've left the canteen already; makes it available\n",
    "    canteen[table].remove('Unavailable') \n",
    "    #just printed the dictionary to verify na 'Unavailable' was removed\n",
    "    print(canteen)\n",
    "look('table2',Gonz,Gonz)"
   ]
  },
  {
   "cell_type": "code",
   "execution_count": null,
   "id": "80f94204",
   "metadata": {},
   "outputs": [],
   "source": []
  }
 ],
 "metadata": {
  "kernelspec": {
   "display_name": "Python 3 (ipykernel)",
   "language": "python",
   "name": "python3"
  },
  "language_info": {
   "codemirror_mode": {
    "name": "ipython",
    "version": 3
   },
   "file_extension": ".py",
   "mimetype": "text/x-python",
   "name": "python",
   "nbconvert_exporter": "python",
   "pygments_lexer": "ipython3",
   "version": "3.10.9"
  }
 },
 "nbformat": 4,
 "nbformat_minor": 5
}
